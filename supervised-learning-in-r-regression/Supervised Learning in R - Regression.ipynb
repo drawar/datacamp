{
 "cells": [
  {
   "cell_type": "markdown",
   "metadata": {},
   "source": [
    "You'll create a formula to define a one-variable modeling task, and then fit a linear model to the data. You are given the rates of male and female unemployment in the United States over several years ([Source](http://college.cengage.com/mathematics/brase/understandable_statistics/7e/students/datasets/slr/frames/slr02.html)).\n",
    "\n",
    "The task is to predict the rate of female unemployment from the observed rate of male unemployment. The outcome is `female_unemployment`, and the input is `male_unemployment`.\n",
    "\n",
    "The sign of the variable coefficient tells you whether the outcome increases (+) or decreases (-) as the variable increases.\n",
    "\n",
    "Recall the calling interface for `lm()` is:\n",
    "\n",
    "`lm(formula, data = ___)`"
   ]
  },
  {
   "cell_type": "code",
   "execution_count": 2,
   "metadata": {},
   "outputs": [
    {
     "data": {
      "text/plain": [
       " male_unemployment female_unemployment\n",
       " Min.   :2.900     Min.   :4.000      \n",
       " 1st Qu.:4.900     1st Qu.:4.400      \n",
       " Median :6.000     Median :5.200      \n",
       " Mean   :5.954     Mean   :5.569      \n",
       " 3rd Qu.:6.700     3rd Qu.:6.100      \n",
       " Max.   :9.800     Max.   :7.900      "
      ]
     },
     "metadata": {},
     "output_type": "display_data"
    },
    {
     "name": "stdout",
     "output_type": "stream",
     "text": [
      "female_unemployment ~ male_unemployment\n",
      "\n",
      "Call:\n",
      "lm(formula = fmla, data = unemployment)\n",
      "\n",
      "Coefficients:\n",
      "      (Intercept)  male_unemployment  \n",
      "           1.4341             0.6945  \n",
      "\n"
     ]
    }
   ],
   "source": [
    "unemployment <- readRDS('data/unemployment.rds')\n",
    "\n",
    "# unemployment is loaded in the workspace\n",
    "summary(unemployment)\n",
    "\n",
    "# Define a formula to express female_unemployment as a function of male_unemployment\n",
    "fmla <- female_unemployment ~ male_unemployment\n",
    "\n",
    "# Print it\n",
    "print(fmla)\n",
    "\n",
    "# Use the formula to fit a model: unemployment_model\n",
    "unemployment_model <- lm(fmla, data = unemployment)\n",
    "\n",
    "# Print it\n",
    "print(unemployment_model)"
   ]
  },
  {
   "cell_type": "markdown",
   "metadata": {},
   "source": [
    "The coefficient for male unemployment is positive, so female unemployment increases as male unemployment does. Linear regression is the most basic of regression approaches."
   ]
  },
  {
   "cell_type": "markdown",
   "metadata": {
    "collapsed": true
   },
   "source": [
    "## Examining a model\n",
    "\n",
    "Let's look at the model unemployment_model that you have just created. There are a variety of different ways to examine a model; each way provides different information. We will use `summary()`, `broom::glance()`, and `sigr::wrapFTest()`."
   ]
  },
  {
   "cell_type": "code",
   "execution_count": 3,
   "metadata": {},
   "outputs": [
    {
     "name": "stdout",
     "output_type": "stream",
     "text": [
      "\n",
      "The downloaded binary packages are in\n",
      "\t/var/folders/6w/tb8lgx5n4_z__f78m5kmnjkm0000gn/T//RtmpwWv6go/downloaded_packages\n"
     ]
    }
   ],
   "source": [
    "# Install additional packages\n",
    "\n",
    "install.packages(c('broom', 'sigr'))"
   ]
  },
  {
   "cell_type": "code",
   "execution_count": 13,
   "metadata": {},
   "outputs": [
    {
     "name": "stdout",
     "output_type": "stream",
     "text": [
      "\n",
      "Call:\n",
      "lm(formula = fmla, data = unemployment)\n",
      "\n",
      "Coefficients:\n",
      "      (Intercept)  male_unemployment  \n",
      "           1.4341             0.6945  \n",
      "\n"
     ]
    },
    {
     "data": {
      "text/plain": [
       "\n",
       "Call:\n",
       "lm(formula = fmla, data = unemployment)\n",
       "\n",
       "Residuals:\n",
       "     Min       1Q   Median       3Q      Max \n",
       "-0.77621 -0.34050 -0.09004  0.27911  1.31254 \n",
       "\n",
       "Coefficients:\n",
       "                  Estimate Std. Error t value Pr(>|t|)    \n",
       "(Intercept)        1.43411    0.60340   2.377   0.0367 *  \n",
       "male_unemployment  0.69453    0.09767   7.111 1.97e-05 ***\n",
       "---\n",
       "Signif. codes:  0 ‘***’ 0.001 ‘**’ 0.01 ‘*’ 0.05 ‘.’ 0.1 ‘ ’ 1\n",
       "\n",
       "Residual standard error: 0.5803 on 11 degrees of freedom\n",
       "Multiple R-squared:  0.8213,\tAdjusted R-squared:  0.8051 \n",
       "F-statistic: 50.56 on 1 and 11 DF,  p-value: 1.966e-05\n"
      ]
     },
     "metadata": {},
     "output_type": "display_data"
    },
    {
     "data": {
      "text/html": [
       "<table>\n",
       "<thead><tr><th scope=col>r.squared</th><th scope=col>adj.r.squared</th><th scope=col>sigma</th><th scope=col>statistic</th><th scope=col>p.value</th><th scope=col>df</th><th scope=col>logLik</th><th scope=col>AIC</th><th scope=col>BIC</th><th scope=col>deviance</th><th scope=col>df.residual</th></tr></thead>\n",
       "<tbody>\n",
       "\t<tr><td>0.8213157   </td><td>0.8050716   </td><td>0.5802596   </td><td>50.56108    </td><td>1.965985e-05</td><td>2           </td><td>-10.28471   </td><td>26.56943    </td><td>28.26428    </td><td>3.703714    </td><td>11          </td></tr>\n",
       "</tbody>\n",
       "</table>\n"
      ],
      "text/latex": [
       "\\begin{tabular}{r|lllllllllll}\n",
       " r.squared & adj.r.squared & sigma & statistic & p.value & df & logLik & AIC & BIC & deviance & df.residual\\\\\n",
       "\\hline\n",
       "\t 0.8213157    & 0.8050716    & 0.5802596    & 50.56108     & 1.965985e-05 & 2            & -10.28471    & 26.56943     & 28.26428     & 3.703714     & 11          \\\\\n",
       "\\end{tabular}\n"
      ],
      "text/markdown": [
       "\n",
       "r.squared | adj.r.squared | sigma | statistic | p.value | df | logLik | AIC | BIC | deviance | df.residual | \n",
       "|---|\n",
       "| 0.8213157    | 0.8050716    | 0.5802596    | 50.56108     | 1.965985e-05 | 2            | -10.28471    | 26.56943     | 28.26428     | 3.703714     | 11           | \n",
       "\n",
       "\n"
      ],
      "text/plain": [
       "  r.squared adj.r.squared sigma     statistic p.value      df logLik   \n",
       "1 0.8213157 0.8050716     0.5802596 50.56108  1.965985e-05 2  -10.28471\n",
       "  AIC      BIC      deviance df.residual\n",
       "1 26.56943 28.26428 3.703714 11         "
      ]
     },
     "metadata": {},
     "output_type": "display_data"
    },
    {
     "data": {
      "text/plain": [
       "[1] \"F Test summary: (R2=0.82, F(1,11)=51, p=2e-05).\""
      ]
     },
     "metadata": {},
     "output_type": "display_data"
    }
   ],
   "source": [
    "# Load packages\n",
    "library(broom)\n",
    "library(sigr)\n",
    "\n",
    "# Print unemployment_model\n",
    "print(unemployment_model)\n",
    "\n",
    "# Call summary() on unemployment_model to get more details\n",
    "summary(unemployment_model)\n",
    "\n",
    "# Call glance() on unemployment_model to see the details in a tidier form\n",
    "glance(unemployment_model)\n",
    "\n",
    "# Call wrapFTest() on unemployment_model to see the most relevant details\n",
    "wrapFTest(unemployment_model)"
   ]
  },
  {
   "cell_type": "markdown",
   "metadata": {},
   "source": [
    "There are several different ways to get diagnostics for your model. Use the one that suits your needs or preferences the best."
   ]
  },
  {
   "cell_type": "markdown",
   "metadata": {},
   "source": [
    "## Predicting from the unemployment model\n",
    "\n",
    "In this exercise, you will use your unemployment model `unemployment_model` to make predictions from the unemployment data, and compare predicted female unemployment rates to the actual observed female unemployment rates on the training data, `unemployment`. You will also use your model to predict on the new data in newrates, which consists of only one observation, where male unemployment is 5%.\n",
    "\n",
    "The `predict()` interface for lm models takes the form\n",
    "\n",
    "    predict(model, newdata)\n",
    "\n",
    "You will use the `ggplot2` package to make the plots, so you will add the prediction column to the `unemployment` data frame. You will plot outcome versus prediction, and compare them to the line that represents perfect predictions (that is when the outcome is equal to the predicted value).\n",
    "\n",
    "The `ggplot2` command to plot a scatterplot of `dframe$outcome` versus `dframe$pred` (`pred` on the x axis, `outcome` on the y axis), along with a blue line where `outcome == pred` is as follows:\n",
    "\n",
    "    ggplot(dframe, aes(x = pred, y = outcome)) + \n",
    "           geom_point() +  \n",
    "           geom_abline(color = \"blue\")"
   ]
  },
  {
   "cell_type": "code",
   "execution_count": 4,
   "metadata": {
    "collapsed": true
   },
   "outputs": [],
   "source": [
    "newrates <- data.frame(5)\n",
    "colnames(newrates) <- 'male_unemployment'"
   ]
  },
  {
   "cell_type": "code",
   "execution_count": 5,
   "metadata": {},
   "outputs": [
    {
     "data": {
      "text/html": [
       "<table>\n",
       "<thead><tr><th scope=col>male_unemployment</th></tr></thead>\n",
       "<tbody>\n",
       "\t<tr><td>5</td></tr>\n",
       "</tbody>\n",
       "</table>\n"
      ],
      "text/latex": [
       "\\begin{tabular}{r|l}\n",
       " male\\_unemployment\\\\\n",
       "\\hline\n",
       "\t 5\\\\\n",
       "\\end{tabular}\n"
      ],
      "text/markdown": [
       "\n",
       "male_unemployment | \n",
       "|---|\n",
       "| 5 | \n",
       "\n",
       "\n"
      ],
      "text/plain": [
       "  male_unemployment\n",
       "1 5                "
      ]
     },
     "metadata": {},
     "output_type": "display_data"
    }
   ],
   "source": [
    "newrates"
   ]
  },
  {
   "cell_type": "code",
   "execution_count": 8,
   "metadata": {},
   "outputs": [
    {
     "data": {
      "text/plain": [
       " male_unemployment female_unemployment   prediction   \n",
       " Min.   :2.900     Min.   :4.000       Min.   :3.448  \n",
       " 1st Qu.:4.900     1st Qu.:4.400       1st Qu.:4.837  \n",
       " Median :6.000     Median :5.200       Median :5.601  \n",
       " Mean   :5.954     Mean   :5.569       Mean   :5.569  \n",
       " 3rd Qu.:6.700     3rd Qu.:6.100       3rd Qu.:6.087  \n",
       " Max.   :9.800     Max.   :7.900       Max.   :8.240  "
      ]
     },
     "metadata": {},
     "output_type": "display_data"
    },
    {
     "data": {
      "text/html": [
       "<table>\n",
       "<thead><tr><th scope=col>male_unemployment</th></tr></thead>\n",
       "<tbody>\n",
       "\t<tr><td>5</td></tr>\n",
       "</tbody>\n",
       "</table>\n"
      ],
      "text/latex": [
       "\\begin{tabular}{r|l}\n",
       " male\\_unemployment\\\\\n",
       "\\hline\n",
       "\t 5\\\\\n",
       "\\end{tabular}\n"
      ],
      "text/markdown": [
       "\n",
       "male_unemployment | \n",
       "|---|\n",
       "| 5 | \n",
       "\n",
       "\n"
      ],
      "text/plain": [
       "  male_unemployment\n",
       "1 5                "
      ]
     },
     "metadata": {},
     "output_type": "display_data"
    },
    {
     "data": {},
     "metadata": {},
     "output_type": "display_data"
    },
    {
     "data": {
      "text/html": [
       "<strong>1:</strong> 4.90675673466077"
      ],
      "text/latex": [
       "\\textbf{1:} 4.90675673466077"
      ],
      "text/markdown": [
       "**1:** 4.90675673466077"
      ],
      "text/plain": [
       "       1 \n",
       "4.906757 "
      ]
     },
     "metadata": {},
     "output_type": "display_data"
    },
    {
     "ename": "ERROR",
     "evalue": "Error in file(con, \"rb\"): cannot open the connection\n",
     "output_type": "error",
     "traceback": [
      "Error in file(con, \"rb\"): cannot open the connection\nTraceback:\n"
     ]
    },
    {
     "data": {},
     "metadata": {
      "image/svg+xml": {
       "isolated": true
      }
     },
     "output_type": "display_data"
    }
   ],
   "source": [
    "# unemployment is in your workspace\n",
    "summary(unemployment)\n",
    "\n",
    "# newrates is in your workspace\n",
    "newrates\n",
    "\n",
    "# Predict female unemployment in the unemployment data set\n",
    "unemployment$prediction <-  predict(unemployment_model, unemployment)\n",
    "\n",
    "# load the ggplot2 package\n",
    "library(ggplot2)\n",
    "\n",
    "# Make a plot to compare predictions to actual (prediction on x axis). \n",
    "\n",
    "options(repr.plot.width = 6, repr.plot.height = 6)\n",
    "options(jupyter.plot_mimetypes = \"image/svg+xml\") \n",
    "\n",
    "p <- ggplot(unemployment, aes(x = prediction, y = female_unemployment)) + \n",
    "  geom_point() +\n",
    "  geom_abline(color = \"blue\")\n",
    "p + ggtitle(sprintf(\n",
    "    \"Plot width = %s, plot height = %s\", \n",
    "    getOption(\"repr.plot.width\"),\n",
    "    getOption(\"repr.plot.height\")\n",
    "))\n",
    "\n",
    "# Predict female unemployment rate when male unemployment is 5%\n",
    "pred <- predict(unemployment_model, newrates)\n",
    "\n",
    "# Print it\n",
    "pred"
   ]
  },
  {
   "cell_type": "code",
   "execution_count": null,
   "metadata": {
    "collapsed": true
   },
   "outputs": [],
   "source": []
  }
 ],
 "metadata": {
  "kernelspec": {
   "display_name": "R",
   "language": "R",
   "name": "ir"
  },
  "language_info": {
   "codemirror_mode": "r",
   "file_extension": ".r",
   "mimetype": "text/x-r-source",
   "name": "R",
   "pygments_lexer": "r",
   "version": "3.4.1"
  }
 },
 "nbformat": 4,
 "nbformat_minor": 2
}
